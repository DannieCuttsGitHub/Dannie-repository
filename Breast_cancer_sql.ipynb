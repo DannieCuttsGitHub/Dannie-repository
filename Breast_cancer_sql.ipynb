{
 "cells": [
  {
   "cell_type": "markdown",
   "id": "cc9cbaf7-b44b-4156-8040-311e7d317c0a",
   "metadata": {},
   "source": [
    "# Sql coding for data analysis"
   ]
  },
  {
   "cell_type": "code",
   "execution_count": 1,
   "id": "d99e933a-469c-40ff-8b39-ea5bd34075ce",
   "metadata": {},
   "outputs": [
    {
     "name": "stderr",
     "output_type": "stream",
     "text": [
      "C:\\Users\\danni\\AppData\\Local\\Temp\\ipykernel_18068\\1597971254.py:2: DeprecationWarning: \n",
      "Pyarrow will become a required dependency of pandas in the next major release of pandas (pandas 3.0),\n",
      "(to allow more performant data types, such as the Arrow string type, and better interoperability with other libraries)\n",
      "but was not found to be installed on your system.\n",
      "If this would cause problems for you,\n",
      "please provide us feedback at https://github.com/pandas-dev/pandas/issues/54466\n",
      "        \n",
      "  import pandas as pd\n"
     ]
    }
   ],
   "source": [
    "# Import dependencies\n",
    "import pandas as pd\n",
    "import os\n",
    "import sqlite3"
   ]
  },
  {
   "cell_type": "code",
   "execution_count": 2,
   "id": "33e747f4-7097-4bd9-90b9-fa7e0d537fb9",
   "metadata": {},
   "outputs": [],
   "source": [
    "filepath = 'C:/Users/danni/Anaconda Projects/projects/cancer_survival_predication/10_data/11_raw_data/breast_cancer.db'\n",
    "con = sqlite3.connect(filepath)"
   ]
  },
  {
   "cell_type": "code",
   "execution_count": 3,
   "id": "2389337f-5bc0-4a84-98ad-1350f1981f3f",
   "metadata": {},
   "outputs": [],
   "source": [
    "#Read the sql database\n",
    "df=pd.read_sql(\"SELECT * from dataset\", con) #, index_col=\"index\" )"
   ]
  },
  {
   "cell_type": "code",
   "execution_count": 4,
   "id": "d658ffa7-0661-4f20-bc13-e17cd4cc404f",
   "metadata": {},
   "outputs": [],
   "source": [
    "con.close()"
   ]
  },
  {
   "cell_type": "code",
   "execution_count": 5,
   "id": "d6a01e7f-8659-414e-8997-638722cac8f4",
   "metadata": {},
   "outputs": [
    {
     "name": "stdout",
     "output_type": "stream",
     "text": [
      "   Age   Race Marital_Status T_Stage N_Stage a6th_Stage  \\\n",
      "0   68  White        Married      T1      N1        IIA   \n",
      "1   50  White        Married      T2      N2       IIIA   \n",
      "2   58  White       Divorced      T3      N3       IIIC   \n",
      "3   58  White        Married      T1      N1        IIA   \n",
      "4   47  White        Married      T2      N1        IIB   \n",
      "\n",
      "               differentiate Grade   A_Stage  Tumor_Size Estrogen_Status  \\\n",
      "0      Poorly differentiated     3  Regional           4        Positive   \n",
      "1  Moderately differentiated     2  Regional          35        Positive   \n",
      "2  Moderately differentiated     2  Regional          63        Positive   \n",
      "3      Poorly differentiated     3  Regional          18        Positive   \n",
      "4      Poorly differentiated     3  Regional          41        Positive   \n",
      "\n",
      "  Progesterone_Status  Regional_Node_Examined  Regionol_Node_Positive  \\\n",
      "0            Positive                      24                       1   \n",
      "1            Positive                      14                       5   \n",
      "2            Positive                      14                       7   \n",
      "3            Positive                       2                       1   \n",
      "4            Positive                       3                       1   \n",
      "\n",
      "   Survival_Months Status  \n",
      "0               60  Alive  \n",
      "1               62  Alive  \n",
      "2               75  Alive  \n",
      "3               84  Alive  \n",
      "4               50  Alive  \n"
     ]
    }
   ],
   "source": [
    "print(df.head())"
   ]
  },
  {
   "cell_type": "raw",
   "id": "b900e8a8-a59f-4e4a-8031-49300018eb56",
   "metadata": {},
   "source": [
    "https://pandas.pydata.org/pandas-docs/stable/getting_started/comparison/comparison_with_sql.html\n",
    "https://levelup.gitconnected.com/sql-v-pandas-basic-syntax-comparison-cheat-sheet-498289372d45\n",
    "https://youtu.be/M-4EpNdlSuY\n",
    "https://youtu.be/oPuVYSC_kpo\n",
    "https://www.dataquest.io/blog/pandas-cheat-sheet/\n",
    "\n"
   ]
  },
  {
   "cell_type": "code",
   "execution_count": null,
   "id": "762eb3f4-882f-482b-ba37-1649cef72954",
   "metadata": {},
   "outputs": [],
   "source": []
  }
 ],
 "metadata": {
  "kernelspec": {
   "display_name": "Python 3 (ipykernel)",
   "language": "python",
   "name": "python3"
  },
  "language_info": {
   "codemirror_mode": {
    "name": "ipython",
    "version": 3
   },
   "file_extension": ".py",
   "mimetype": "text/x-python",
   "name": "python",
   "nbconvert_exporter": "python",
   "pygments_lexer": "ipython3",
   "version": "3.11.7"
  }
 },
 "nbformat": 4,
 "nbformat_minor": 5
}
